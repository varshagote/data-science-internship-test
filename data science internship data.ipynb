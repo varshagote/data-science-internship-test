{
 "cells": [
  {
   "cell_type": "code",
   "execution_count": 1,
   "id": "f71cdb26",
   "metadata": {},
   "outputs": [
    {
     "name": "stdout",
     "output_type": "stream",
     "text": [
      "(9742, 3)\n"
     ]
    }
   ],
   "source": [
    "  #que :What is the shape of \"movies.csv\"?\n",
    "\n",
    "import pandas as pd\n",
    "\n",
    "# Load the CSV file\n",
    "movies = pd.read_csv('movies.csv')\n",
    "\n",
    "# Print the shape\n",
    "print(movies.shape)"
   ]
  },
  {
   "cell_type": "code",
   "execution_count": 3,
   "id": "2fa19c3a",
   "metadata": {},
   "outputs": [
    {
     "name": "stdout",
     "output_type": "stream",
     "text": [
      "(100836, 4)\n"
     ]
    }
   ],
   "source": [
    "#que:What is the shape of \"ratings.csv\"?\n",
    "\n",
    "import pandas as pd\n",
    "\n",
    "# Load the CSV file\n",
    "ratings = pd.read_csv('ratings.csv')\n",
    "\n",
    "# Print the shape\n",
    "print(ratings.shape)\n"
   ]
  },
  {
   "cell_type": "code",
   "execution_count": 4,
   "id": "bf2dc11f",
   "metadata": {},
   "outputs": [
    {
     "name": "stdout",
     "output_type": "stream",
     "text": [
      "610\n"
     ]
    }
   ],
   "source": [
    "#que :How many unique \"userId\" are available in \"ratings.csv\"?\n",
    "*\n",
    "import pandas as pd\n",
    "\n",
    "# Load the CSV file\n",
    "ratings = pd.read_csv('ratings.csv')\n",
    "\n",
    "# Get the number of unique userId values\n",
    "unique_user_ids = ratings['userId'].nunique()\n",
    "print(unique_user_ids)\n",
    "\n"
   ]
  },
  {
   "cell_type": "code",
   "execution_count": 5,
   "id": "a9aabbf8",
   "metadata": {},
   "outputs": [
    {
     "name": "stdout",
     "output_type": "stream",
     "text": [
      "     movieId                title                    genres\n",
      "314      356  Forrest Gump (1994)  Comedy|Drama|Romance|War\n"
     ]
    }
   ],
   "source": [
    "#que:Which movie has recieved maximum number of user ratings?\n",
    "import pandas as pd\n",
    "\n",
    "# Load the CSV files\n",
    "ratings = pd.read_csv('ratings.csv')\n",
    "movies = pd.read_csv('movies.csv')\n",
    "\n",
    "# Count the number of ratings for each movie\n",
    "rating_counts = ratings['movieId'].value_counts()\n",
    "\n",
    "# Get the movieId with the maximum number of ratings\n",
    "most_rated_movie_id = rating_counts.idxmax()\n",
    "\n",
    "# Find the movie title corresponding to this movieId\n",
    "most_rated_movie = movies[movies['movieId'] == most_rated_movie_id]\n",
    "\n",
    "print(most_rated_movie)\n"
   ]
  },
  {
   "cell_type": "code",
   "execution_count": 6,
   "id": "55515173",
   "metadata": {},
   "outputs": [
    {
     "name": "stdout",
     "output_type": "stream",
     "text": [
      "['martial arts', 'sci-fi', 'alternate universe', 'philosophy', 'post apocalyptic']\n"
     ]
    }
   ],
   "source": [
    "#que: Select all the correct tags submitted by users to \"Matrix, The (1999)\" movie?\n",
    "import pandas as pd\n",
    "\n",
    "# Load the CSV files\n",
    "movies = pd.read_csv('movies.csv')\n",
    "tags = pd.read_csv('tags.csv')\n",
    "\n",
    "# Identify the movieId for \"Matrix, The (1999)\"\n",
    "matrix_movie_id = movies[movies['title'] == 'Matrix, The (1999)']['movieId'].values[0]\n",
    "\n",
    "# Filter tags for this movieId\n",
    "matrix_tags = tags[tags['movieId'] == matrix_movie_id]\n",
    "\n",
    "print(matrix_tags['tag'].tolist())\n"
   ]
  },
  {
   "cell_type": "code",
   "execution_count": 7,
   "id": "107c8b3b",
   "metadata": {},
   "outputs": [
    {
     "name": "stdout",
     "output_type": "stream",
     "text": [
      "The average rating for 'Terminator 2: Judgment Day (1991)' is 3.97\n"
     ]
    }
   ],
   "source": [
    "#que :What is the average user rating for movie named \"Terminator 2: Judgment Day (1991)\"?\n",
    "import pandas as pd\n",
    "\n",
    "# Load the CSV files\n",
    "movies = pd.read_csv('movies.csv')\n",
    "ratings = pd.read_csv('ratings.csv')\n",
    "\n",
    "# Identify the movieId for \"Terminator 2: Judgment Day (1991)\"\n",
    "terminator_movie_id = movies[movies['title'] == 'Terminator 2: Judgment Day (1991)']['movieId'].values[0]\n",
    "\n",
    "# Filter ratings for this movieId\n",
    "terminator_ratings = ratings[ratings['movieId'] == terminator_movie_id]\n",
    "\n",
    "# Calculate the average rating\n",
    "average_rating = terminator_ratings['rating'].mean()\n",
    "\n",
    "print(f\"The average rating for 'Terminator 2: Judgment Day (1991)' is {average_rating:.2f}\")\n"
   ]
  },
  {
   "cell_type": "code",
   "execution_count": 8,
   "id": "66d886ab",
   "metadata": {},
   "outputs": [
    {
     "data": {
      "image/png": "[encoded data removed]",
      "text/plain": [
       "<Figure size 640x480 with 1 Axes>"
      ]
     },
     "metadata": {},
     "output_type": "display_data"
    }
   ],
   "source": [
    "#que:How does the data distribution of user ratings for \"Fight Club (1999)\" movie looks like?\n",
    "\n",
    "import pandas as pd\n",
    "import matplotlib.pyplot as plt\n",
    "\n",
    "# Load the CSV files\n",
    "movies = pd.read_csv('movies.csv')\n",
    "ratings = pd.read_csv('ratings.csv')\n",
    "\n",
    "# Identify the movieId for \"Fight Club (1999)\"\n",
    "fight_club_movie_id = movies[movies['title'] == 'Fight Club (1999)']['movieId'].values[0]\n",
    "\n",
    "# Filter ratings for this movieId\n",
    "fight_club_ratings = ratings[ratings['movieId'] == fight_club_movie_id]\n",
    "\n",
    "# Plot the distribution of ratings\n",
    "plt.hist(fight_club_ratings['rating'], bins=10, edgecolor='k', alpha=0.7)\n",
    "plt.xlabel('Rating')\n",
    "plt.ylabel('Frequency')\n",
    "plt.title('Distribution of User Ratings for \"Fight Club (1999)\"')\n",
    "plt.show()\n"
   ]
  },
  {
   "cell_type": "code",
   "execution_count": 10,
   "id": "0140e5e3",
   "metadata": {},
   "outputs": [
    {
     "name": "stdout",
     "output_type": "stream",
     "text": [
      "movieId                                 318\n",
      "title      Shawshank Redemption, The (1994)\n",
      "genres                          Crime|Drama\n",
      "count                                   317\n",
      "mean                               4.429022\n",
      "Name: 277, dtype: object\n"
     ]
    }
   ],
   "source": [
    "#Test 2nd    🟢 IMPORTANT NOTE 1 🟢\n",
    "#Now that you have a good enough understanding of the given data, apply the \"Mandatory Operation\" given below before solving any of the following questions.\n",
    "\n",
    "#Mandatory Operations:\n",
    "#1. Group the user ratings based on movieId and apply aggregation operations like count and mean on ratings. \n",
    "#2. Apply inner join on dataframe created from movies.csv and the grouped df from step 1.\n",
    "#3. Filter only those movies which have more than 50 user ratings (i.e. > 50).\n",
    "\n",
    "#Above steps will make sure that your data contains only those movies which has recieved more than 50 user ratings.\n",
    "#which movie is the most popular based on  average user ratings?\n",
    "\n",
    "#Answer this question only after applying the above mentioned \"Mandatory Operration\".\n",
    "\n",
    "import pandas as pd\n",
    "\n",
    "# Load the CSV files\n",
    "movies = pd.read_csv('movies.csv')\n",
    "ratings = pd.read_csv('ratings.csv')\n",
    "\n",
    "# Step 1: Group by movieId and calculate count and mean of ratings\n",
    "rating_summary = ratings.groupby('movieId')['rating'].agg(['count', 'mean'])\n",
    "\n",
    "# Step 2: Merge with movies dataframe\n",
    "movies_with_ratings = pd.merge(movies, rating_summary, on='movieId')\n",
    "\n",
    "# Step 3: Filter movies with more than 50 ratings\n",
    "popular_movies = movies_with_ratings[movies_with_ratings['count'] > 50]\n",
    "\n",
    "# Step 4: Find the movie with the highest average rating\n",
    "most_popular_movie = popular_movies.loc[popular_movies['mean'].idxmax()]\n",
    "\n",
    "print(most_popular_movie)\n"
   ]
  },
  {
   "cell_type": "code",
   "execution_count": 12,
   "id": "da4fc953",
   "metadata": {},
   "outputs": [
    {
     "name": "stdout",
     "output_type": "stream",
     "text": [
      "                                title  count      mean\n",
      "61                Forrest Gump (1994)    329  4.164134\n",
      "53   Shawshank Redemption, The (1994)    317  4.429022\n",
      "49                Pulp Fiction (1994)    307  4.197068\n",
      "99   Silence of the Lambs, The (1991)    279  4.161290\n",
      "248                Matrix, The (1999)    278  4.192446\n"
     ]
    }
   ],
   "source": [
    "#Now that you have a good enough understanding of the given data, apply the \"Mandatory Operation\" given below before solving any of the following questions.\n",
    "\n",
    "#Mandatory Operations:\n",
    "#1. Group the user ratings based on movieId and apply aggregation operations like count and mean on ratings. \n",
    "#2. Apply inner join on dataframe created from movies.csv and the grouped df from step 1.\n",
    "#3. Filter only those movies which have more than 50 user ratings (i.e. > 50).\n",
    "\n",
    "#Above steps will make sure that your data contains only those movies which has recieved more than 50 user ratings.\n",
    "\n",
    "#que :Select all the correct options which comes under top 5 popular movies based on number of user ratings.\n",
    "\n",
    "#Answer this question only after applying the above mentioned \"Mandatory Operration\".\n",
    "import pandas as pd\n",
    "\n",
    "# Load the CSV files\n",
    "movies = pd.read_csv('movies.csv')\n",
    "ratings = pd.read_csv('ratings.csv')\n",
    "\n",
    "# Group ratings by movieId and calculate count and mean\n",
    "rating_stats = ratings.groupby('movieId')['rating'].agg(['count', 'mean'])\n",
    "\n",
    "# Filter movies with more than 50 ratings\n",
    "popular_movies = rating_stats[rating_stats['count'] > 50]\n",
    "\n",
    "# Join with movie details\n",
    "popular_movies = popular_movies.merge(movies, on='movieId')\n",
    "\n",
    "# Get the top 5 movies based on number of ratings\n",
    "top_5_popular_movies = popular_movies.sort_values(by='count', ascending=False).head(5)\n",
    "\n",
    "# Print top 5 popular movies\n",
    "print(top_5_popular_movies[['title', 'count', 'mean']])\n",
    "\n",
    "\n"
   ]
  },
  {
   "cell_type": "code",
   "execution_count": 14,
   "id": "2972c267",
   "metadata": {},
   "outputs": [
    {
     "name": "stdout",
     "output_type": "stream",
     "text": [
      "title           Jurassic Park (1993)\n",
      "rating_count                     238\n",
      "Name: 418, dtype: object\n"
     ]
    }
   ],
   "source": [
    "#Now that you have a good enough understanding of the given data, apply the \"Mandatory Operation\" given below before solving any of the following questions.\n",
    "\n",
    "#Mandatory Operations:\n",
    "#1. Group the user ratings based on movieId and apply aggregation operations like count and mean on ratings. \n",
    "#2. Apply inner join on dataframe created from movies.csv and the grouped df from step 1.\n",
    "#3. Filter only those movies which have more than 50 user ratings (i.e. > 50).\n",
    "\n",
    "#Above steps will make sure that your data contains only those movies which has recieved more than 50 user ratings.\n",
    "\n",
    "\n",
    "\n",
    "\n",
    "#QUE:    Which Sci-Fi movie is \"third most popular\" based on the number of user ratings?\n",
    "\n",
    "#Answer this question only after applying the above mentioned \"Mandatory Operration\".\n",
    "import pandas as pd\n",
    "\n",
    "# Load the CSV files\n",
    "movies = pd.read_csv('movies.csv')\n",
    "ratings = pd.read_csv('ratings.csv')\n",
    "\n",
    "# Group by movieId and calculate count and mean of ratings\n",
    "ratings_agg = ratings.groupby('movieId').agg({'rating': ['count', 'mean']}).reset_index()\n",
    "ratings_agg.columns = ['movieId', 'rating_count', 'rating_mean']\n",
    "\n",
    "# Join with movies data\n",
    "movies_ratings = pd.merge(movies, ratings_agg, on='movieId')\n",
    "\n",
    "# Filter movies with more than 50 ratings\n",
    "popular_movies = movies_ratings[movies_ratings['rating_count'] > 50]\n",
    "\n",
    "# Sort by rating_count in descending order\n",
    "sorted_movies = popular_movies.sort_values(by='rating_count', ascending=False)\n",
    "\n",
    "# Filter for Sci-Fi genre\n",
    "sci_fi_movies = sorted_movies[sorted_movies['genres'].str.contains('Sci-Fi')]\n",
    "\n",
    "# Get the third most popular Sci-Fi movie\n",
    "third_most_popular_sci_fi = sci_fi_movies.iloc[2]\n",
    "\n",
    "print(third_most_popular_sci_fi[['title', 'rating_count']])\n",
    "\n"
   ]
  },
  {
   "cell_type": "code",
   "execution_count": null,
   "id": "05e6709f",
   "metadata": {},
   "outputs": [],
   "source": [
    "#You already have a subset of data containing only those movies which has recieved more than 50 user ratings.\n",
    "\n",
    "#Using \"links.csv\", scrape the IMDB reviews of each movie with more than 50 user ratings. \"README.md\" file contains the required details.\n",
    "\n",
    "#If you are unable to write the webscraping script yourself, you can request the same by commenting LinkedIn Post.\n",
    "\n",
    "\n",
    "# QUE : Mention the movieId of the movie which has the highest IMDB rating.\n",
    "\n",
    "\n",
    "\n",
    "\n",
    "#STEP1\n",
    " import pandas as pd\n",
    "\n",
    "# Load CSV files\n",
    "movies = pd.read_csv('movies.csv')\n",
    "ratings = pd.read_csv('ratings.csv')\n",
    "links = pd.read_csv('links.csv')\n",
    "\n",
    "# Group by movieId and calculate count and mean of ratings\n",
    "ratings_agg = ratings.groupby('movieId').agg({'rating': ['count', 'mean']}).reset_index()\n",
    "ratings_agg.columns = ['movieId', 'rating_count', 'rating_mean']\n",
    "\n",
    "# Join movies with aggregated ratings data\n",
    "movies_ratings = pd.merge(movies, ratings_agg, on='movieId')\n",
    "\n",
    "# Filter movies with more than 50 ratings\n",
    "popular_movies = movies_ratings[movies_ratings['rating_count'] > 50]\n",
    "\n",
    "# Merge with links.csv to get IMDb IDs\n",
    "popular_movies_with_links = pd.merge(popular_movies, links, on='movieId')\n",
    "\n",
    "\n",
    "\n",
    "#STEP2:\n",
    "\n",
    "\n",
    "import requests\n",
    "from bs4 import BeautifulSoup\n",
    "\n",
    "# Function to scrape IMDb rating for a given movieId\n",
    "def scrape_imdb_rating(imdb_id):\n",
    "    url = f'https://www.imdb.com/title/tt{imdb_id}/'\n",
    "    response = requests.get(url)\n",
    "    soup = BeautifulSoup(response.text, 'html.parser')\n",
    "    \n",
    "    # Example selector; change based on IMDb page structure\n",
    "    rating = soup.find('span', {'class': 'sc-7ab21ed2-1 jGRxWM'}).text  # Update class as per IMDb's current HTML structure\n",
    "    return float(rating)\n",
    "\n",
    "# Scrape IMDb ratings for movies\n",
    "popular_movies_with_links['imdb_rating'] = popular_movies_with_links['imdbId'].apply(lambda x: scrape_imdb_rating(str(x).zfill(7)))\n",
    "\n",
    "\n",
    "\n",
    "#Step 3: Find Movie with the Highest IMDb Rating\n",
    "\n",
    "# Find the movieId of the movie with the highest IMDb rating\n",
    "highest_imdb_movie = popular_movies_with_links.loc[popular_movies_with_links['imdb_rating'].idxmax()]\n",
    "\n",
    "print(f\"The movie with the highest IMDb rating has movieId: {highest_imdb_movie['movieId']}\")\n",
    "\n",
    "\n",
    "\n",
    "\n",
    "\n",
    "\n"
   ]
  },
  {
   "cell_type": "code",
   "execution_count": null,
   "id": "61ca6ab0",
   "metadata": {},
   "outputs": [],
   "source": [
    "#You already have a subset of data containing only those movies which has recieved more than 50 user ratings.\n",
    "\n",
    "#Using \"links.csv\", scrape the IMDB reviews of each movie with more than 50 user ratings. \"README.md\" file contains the required details.\n",
    "\n",
    "\n",
    "#QUE :Mention the movieId of the \"Sci-Fi\" movie which has the highest IMDB rating.\n",
    "\n",
    "\n",
    "#STEP1 \n",
    "\n",
    "import pandas as pd\n",
    "\n",
    "# Load the necessary CSV files\n",
    "movies = pd.read_csv('movies.csv')\n",
    "links = pd.read_csv('links.csv')\n",
    "\n",
    "# Assuming 'popular_movies' is the subset of movies with more than 50 ratings\n",
    "# Merge the popular_movies subset with links.csv to get IMDb IDs\n",
    "popular_movies_with_links = pd.merge(popular_movies, links, on='movieId')\n",
    "\n",
    "# Filter only Sci-Fi movies\n",
    "sci_fi_movies = popular_movies_with_links[popular_movies_with_links['genres'].str.contains('Sci-Fi')]\n",
    "\n",
    "\n",
    "\n",
    "#STEP2:\n",
    "\n",
    "import requests\n",
    "from bs4 import BeautifulSoup\n",
    "\n",
    "# Function to scrape IMDb rating for a given imdbId\n",
    "def scrape_imdb_rating(imdb_id):\n",
    "    url = f'https://www.imdb.com/title/tt{imdb_id}/'\n",
    "    response = requests.get(url)\n",
    "    soup = BeautifulSoup(response.text, 'html.parser')\n",
    "    \n",
    "    # The selector might change based on IMDb's current HTML structure\n",
    "    try:\n",
    "        rating = soup.find('span', {'class': 'sc-7ab21ed2-1 jGRxWM'}).text  # Update class as per IMDb's current HTML structure\n",
    "        return float(rating)\n",
    "    except Exception as e:\n",
    "        print(f\"Error scraping IMDb ID {imdb_id}: {e}\")\n",
    "        return None\n",
    "\n",
    "# Scrape IMDb ratings for Sci-Fi movies\n",
    "sci_fi_movies['imdb_rating'] = sci_fi_movies['imdbId'].apply(lambda x: scrape_imdb_rating(str(x).zfill(7)))\n",
    "\n",
    "\n",
    "\n",
    " #STEP 3:\n",
    "    \n",
    "    # Find the Sci-Fi movie with the highest IMDb rating\n",
    "highest_imdb_sci_fi_movie = sci_fi_movies.loc[sci_fi_movies['imdb_rating'].idxmax()]\n",
    "\n",
    "print(f\"The Sci-Fi movie with the highest IMDb rating has movieId: {highest_imdb_sci_fi_movie['movieId']}\")\n",
    "\n",
    "    "
   ]
  }
 ],
 "metadata": {
  "kernelspec": {
   "display_name": "Python 3 (ipykernel)",
   "language": "python",
   "name": "python3"
  },
  "language_info": {
   "codemirror_mode": {
    "name": "ipython",
    "version": 3
   },
   "file_extension": ".py",
   "mimetype": "text/x-python",
   "name": "python",
   "nbconvert_exporter": "python",
   "pygments_lexer": "ipython3",
   "version": "3.11.5"
  }
 },
 "nbformat": 4,
 "nbformat_minor": 5
}
